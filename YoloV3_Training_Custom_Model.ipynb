{
  "nbformat": 4,
  "nbformat_minor": 0,
  "metadata": {
    "colab": {
      "name": "YoloV3_Training_Custom_Model.ipynb",
      "provenance": [],
      "collapsed_sections": [],
      "include_colab_link": true
    },
    "kernelspec": {
      "name": "python3",
      "display_name": "Python 3"
    },
    "accelerator": "GPU"
  },
  "cells": [
    {
      "cell_type": "markdown",
      "metadata": {
        "id": "view-in-github",
        "colab_type": "text"
      },
      "source": [
        "<a href=\"https://colab.research.google.com/github/anthonymiglio/YoloV3_Training_Custom_Model/blob/main/YoloV3_Training_Custom_Model.ipynb\" target=\"_parent\"><img src=\"https://colab.research.google.com/assets/colab-badge.svg\" alt=\"Open In Colab\"/></a>"
      ]
    },
    {
      "cell_type": "markdown",
      "metadata": {
        "id": "Pi2000RwwQ0m"
      },
      "source": [
        "# Welcome to YoloV3 Training Custom Model\n",
        "\n",
        "# Step 0: Enable GPU on your Google Colab notebook\n",
        "\n",
        "Yolo Model Training runs around 100 times faster on GPU than on CPU processing. So follow the steps:\n",
        "\n",
        "On the top Left Bar, Click on **Edit**,\n",
        "then on the drop menu **Notebook settings**\n",
        "and under **Hardware Accelarator**\n",
        "select **GPU**, then hit **Save**."
      ]
    },
    {
      "cell_type": "code",
      "metadata": {
        "colab": {
          "base_uri": "https://localhost:8080/"
        },
        "id": "31o1tl65b5BV",
        "outputId": "0c89c460-b35c-4ae6-c7e2-34b290890490"
      },
      "source": [
        "# Verify if there is CUDA installed on local machine\n",
        "!/usr/local/cuda/bin/nvcc --version"
      ],
      "execution_count": null,
      "outputs": [
        {
          "output_type": "stream",
          "text": [
            "nvcc: NVIDIA (R) Cuda compiler driver\n",
            "Copyright (c) 2005-2020 NVIDIA Corporation\n",
            "Built on Wed_Jul_22_19:09:09_PDT_2020\n",
            "Cuda compilation tools, release 11.0, V11.0.221\n",
            "Build cuda_11.0_bu.TC445_37.28845127_0\n"
          ],
          "name": "stdout"
        }
      ]
    },
    {
      "cell_type": "markdown",
      "metadata": {
        "id": "O86YadQRykZf"
      },
      "source": [
        "## Step 1: Check if NVIDIA GPU is enabled\n"
      ]
    },
    {
      "cell_type": "code",
      "metadata": {
        "id": "bwp6NIrsZZFP",
        "colab": {
          "base_uri": "https://localhost:8080/"
        },
        "outputId": "33f19008-b521-44fa-810f-06f548590463"
      },
      "source": [
        "# Check if NVIDIA GPU is enabled\n",
        "!nvidia-smi"
      ],
      "execution_count": null,
      "outputs": [
        {
          "output_type": "stream",
          "text": [
            "Sun Aug 15 08:06:11 2021       \n",
            "+-----------------------------------------------------------------------------+\n",
            "| NVIDIA-SMI 470.42.01    Driver Version: 460.32.03    CUDA Version: 11.2     |\n",
            "|-------------------------------+----------------------+----------------------+\n",
            "| GPU  Name        Persistence-M| Bus-Id        Disp.A | Volatile Uncorr. ECC |\n",
            "| Fan  Temp  Perf  Pwr:Usage/Cap|         Memory-Usage | GPU-Util  Compute M. |\n",
            "|                               |                      |               MIG M. |\n",
            "|===============================+======================+======================|\n",
            "|   0  Tesla T4            Off  | 00000000:00:04.0 Off |                    0 |\n",
            "| N/A   45C    P8     9W /  70W |      0MiB / 15109MiB |      0%      Default |\n",
            "|                               |                      |                  N/A |\n",
            "+-------------------------------+----------------------+----------------------+\n",
            "                                                                               \n",
            "+-----------------------------------------------------------------------------+\n",
            "| Processes:                                                                  |\n",
            "|  GPU   GI   CI        PID   Type   Process name                  GPU Memory |\n",
            "|        ID   ID                                                   Usage      |\n",
            "|=============================================================================|\n",
            "|  No running processes found                                                 |\n",
            "+-----------------------------------------------------------------------------+\n"
          ],
          "name": "stdout"
        }
      ]
    },
    {
      "cell_type": "markdown",
      "metadata": {
        "id": "wHBQcQzjD6HJ"
      },
      "source": [
        "## Step 2: Connect to google drive"
      ]
    },
    {
      "cell_type": "code",
      "metadata": {
        "id": "9e9ZW3sqMEPO"
      },
      "source": [
        "from google.colab import drive\n",
        "drive.mount('/content/gdrive')\n",
        "!ln -s /content/gdrive/My\\ Drive/ /mydrive"
      ],
      "execution_count": null,
      "outputs": []
    },
    {
      "cell_type": "code",
      "metadata": {
        "id": "EuFterkCzewI"
      },
      "source": [
        "# https://drive.google.com/drive/my-drive\n",
        "# !ls /mydrive"
      ],
      "execution_count": null,
      "outputs": []
    },
    {
      "cell_type": "markdown",
      "metadata": {
        "id": "t7utW4in4azV"
      },
      "source": [
        "## Step 3: Clone the Darknet\n",
        "\n"
      ]
    },
    {
      "cell_type": "code",
      "metadata": {
        "id": "e03U7Zi-qMr2"
      },
      "source": [
        "!git clone https://github.com/AlexeyAB/darknet"
      ],
      "execution_count": null,
      "outputs": []
    },
    {
      "cell_type": "markdown",
      "metadata": {
        "id": "7gDOF3mU-TAn"
      },
      "source": [
        "## Step 4: Compile Darknet using Nvidia GPU\n",
        "This will take same time and don't worry about the number of messages, it's just been compiled."
      ]
    },
    {
      "cell_type": "code",
      "metadata": {
        "id": "5H-Taj06Tw1c"
      },
      "source": [
        "# change makefile to have GPU and OPENCV enabled\n",
        "%cd darknet\n",
        "!sed -i 's/OPENCV=0/OPENCV=1/' Makefile\n",
        "!sed -i 's/GPU=0/GPU=1/' Makefile\n",
        "!sed -i 's/CUDNN=0/CUDNN=1/' Makefile\n",
        "!make # make darknet(build)"
      ],
      "execution_count": null,
      "outputs": []
    },
    {
      "cell_type": "markdown",
      "metadata": {
        "id": "gAOLtA_qI9vF"
      },
      "source": [
        "## Step5: Configure Darknet network for training YOLO V3\n",
        "This makes a copy ofthe original config file to another one, just to keep safe the original and no need to download again.\n",
        "Class configuration is set for 2 classes: Custom_class_1 and Custom_class_2. Pleas do use white space within class name."
      ]
    },
    {
      "cell_type": "code",
      "metadata": {
        "id": "s-RpscgU853t"
      },
      "source": [
        "!cp cfg/yolov3.cfg cfg/yolov3_training.cfg"
      ],
      "execution_count": null,
      "outputs": []
    },
    {
      "cell_type": "code",
      "metadata": {
        "id": "5ZgVQRop_vwR"
      },
      "source": [
        "# # Set to 1 Class\n",
        "# !sed -i 's/batch=1/batch=64/' cfg/yolov3_training.cfg\n",
        "# !sed -i 's/subdivisions=1/subdivisions=16/' cfg/yolov3_training.cfg\n",
        "# !sed -i 's/max_batches = 500200/max_batches = 4000/' cfg/yolov3_training.cfg\n",
        "# !sed -i '610 s@classes=80@classes=1@' cfg/yolov3_training.cfg\n",
        "# !sed -i '696 s@classes=80@classes=1@' cfg/yolov3_training.cfg\n",
        "# !sed -i '783 s@classes=80@classes=1@' cfg/yolov3_training.cfg\n",
        "# !sed -i '603 s@filters=255@filters=18@' cfg/yolov3_training.cfg\n",
        "# !sed -i '689 s@filters=255@filters=18@' cfg/yolov3_training.cfg\n",
        "# !sed -i '776 s@filters=255@filters=18@' cfg/yolov3_training.cfg\n",
        "\n",
        "# Set to 2 Classes\n",
        "!sed -i 's/batch=1/batch=64/' cfg/yolov3_training.cfg\n",
        "!sed -i 's/subdivisions=1/subdivisions=16/' cfg/yolov3_training.cfg\n",
        "!sed -i 's/max_batches = 500200/max_batches = 4000/' cfg/yolov3_training.cfg # 2000 * (n_of_classes)\n",
        "!sed -i '610 s@classes=80@classes=2@' cfg/yolov3_training.cfg   # n_of_classes = len(classes)\n",
        "!sed -i '696 s@classes=80@classes=2@' cfg/yolov3_training.cfg   # n_of_classes\n",
        "!sed -i '783 s@classes=80@classes=2@' cfg/yolov3_training.cfg   # n_of_classes\n",
        "!sed -i '603 s@filters=255@filters=21@' cfg/yolov3_training.cfg # 3 * (5 + len(classes))\n",
        "!sed -i '689 s@filters=255@filters=21@' cfg/yolov3_training.cfg # 3 * (5 + len(classes))\n",
        "!sed -i '776 s@filters=255@filters=21@' cfg/yolov3_training.cfg # 3 * (5 + len(classes))\n"
      ],
      "execution_count": null,
      "outputs": []
    },
    {
      "cell_type": "code",
      "metadata": {
        "id": "nscRN-X2Mr3d"
      },
      "source": [
        "# Create folder on google drive so that we can save there the weights\n",
        "!mkdir \"/mydrive/yolov3\""
      ],
      "execution_count": null,
      "outputs": []
    },
    {
      "cell_type": "code",
      "metadata": {
        "id": "7AIBw_psIclz"
      },
      "source": [
        "# !echo \"costum_class_1\" > data/obj.names\n",
        "!echo -e 'custom_class_1\\ncustom_class_2' > data/obj.names\n",
        "# !echo -e 'classes= 1\\ntrain  = data/train.txt\\nvalid  = data/test.txt\\nnames = data/obj.names\\nbackup = /mydrive/yolov3' > data/obj.data\n",
        "!echo -e 'classes= 2\\ntrain  = data/train.txt\\nvalid  = data/train.txt\\nnames = data/obj.names\\nbackup = /mydrive/yolov3' > data/obj.data\n",
        "!mkdir data/obj"
      ],
      "execution_count": null,
      "outputs": []
    },
    {
      "cell_type": "code",
      "metadata": {
        "id": "eZlkzFMW7I_N"
      },
      "source": [
        "# Download weights darknet model 53\n",
        "!wget https://pjreddie.com/media/files/darknet53.conv.74"
      ],
      "execution_count": null,
      "outputs": []
    },
    {
      "cell_type": "markdown",
      "metadata": {
        "id": "9RbVKJjoncW2"
      },
      "source": [
        "## Step 6: Extract Images\n",
        "\n",
        "The images need to be inside a zip archive called \"images.zip\" and they need to be inside the folder \"yolov3\" on Google Drive"
      ]
    },
    {
      "cell_type": "code",
      "metadata": {
        "id": "jhb5nZvsQ_96"
      },
      "source": [
        "!unzip /mydrive/yolov3/images.zip -d data/obj"
      ],
      "execution_count": null,
      "outputs": []
    },
    {
      "cell_type": "code",
      "metadata": {
        "id": "DGUyXxeYX0IP"
      },
      "source": [
        "# We're going to convert the class index on the .txt files.\n",
        "import glob\n",
        "import os\n",
        "import re\n",
        "\n",
        "txt_file_paths = glob.glob(r\"data/obj/*.txt\")\n",
        "for i, file_path in enumerate(txt_file_paths):\n",
        "    # get image size\n",
        "    with open(file_path, \"r\") as f_o:\n",
        "        lines = f_o.readlines()\n",
        "\n",
        "        text_converted = []\n",
        "        for line in lines:\n",
        "            print(line)\n",
        "            numbers = re.findall(\"[0-9.]+\", line)\n",
        "            print(numbers)\n",
        "            if numbers:\n",
        "\n",
        "                # Define coordinates\n",
        "                # text = \"{} {} {} {} {}\".format(0, numbers[1], numbers[2], numbers[3], numbers[4])        # 1 Class\n",
        "                text = \"{} {} {} {} {}\".format(numbers[0], numbers[1], numbers[2], numbers[3], numbers[4]) # More than 1 Classes\n",
        "                text_converted.append(text)\n",
        "                print(i, file_path)\n",
        "                print(text)\n",
        "        # Write file\n",
        "        with open(file_path, 'w') as fp:\n",
        "            for item in text_converted:\n",
        "                fp.writelines(\"%s\\n\" % item)"
      ],
      "execution_count": null,
      "outputs": []
    },
    {
      "cell_type": "code",
      "metadata": {
        "id": "5I_0ht7ITMUu"
      },
      "source": [
        "# Create image list\n",
        "import glob\n",
        "images_list = glob.glob(\"data/obj/*.jpg\")\n",
        "print(images_list)"
      ],
      "execution_count": null,
      "outputs": []
    },
    {
      "cell_type": "code",
      "metadata": {
        "id": "EzygoAtMSnon"
      },
      "source": [
        "#Create training.txt file\n",
        "file = open(\"data/train.txt\", \"w\") \n",
        "file.write(\"\\n\".join(images_list)) \n",
        "file.close() "
      ],
      "execution_count": null,
      "outputs": []
    },
    {
      "cell_type": "markdown",
      "metadata": {
        "id": "CeSiuLrXoAjc"
      },
      "source": [
        "## Step 7: Start the training\n",
        "This is the training step and it will take hours, so do not let your computer sleep or hibernate."
      ]
    },
    {
      "cell_type": "code",
      "metadata": {
        "id": "S3_g3jclUzMm"
      },
      "source": [
        "# Start the training\n",
        "!./darknet detector train data/obj.data cfg/yolov3_training.cfg darknet53.conv.74 -dont_show -map\n",
        "\n",
        "# !./darknet detector train data/obj.data cfg/yolov3_training.cfg darknet53.conv.74 -dont_show"
      ],
      "execution_count": null,
      "outputs": []
    },
    {
      "cell_type": "markdown",
      "metadata": {
        "id": "uOYAvKTz4t-v"
      },
      "source": [
        "## Step 8: To Continue from where it stopped, DO NOT click no Step 7, instead click on STEP8\n",
        "\n"
      ]
    },
    {
      "cell_type": "code",
      "metadata": {
        "id": "q2i7Pg874fAH"
      },
      "source": [
        "# To continue from where it stopped\n",
        "!./darknet detector train data/obj.data cfg/yolov3_training.cfg /mydrive/yolov3/yolov3_training_last.weights -dont_show"
      ],
      "execution_count": null,
      "outputs": []
    },
    {
      "cell_type": "markdown",
      "metadata": {
        "id": "mUAKvsUY3fzb"
      },
      "source": [
        "Optional to run mAP (Mean Average Precison)"
      ]
    },
    {
      "cell_type": "code",
      "metadata": {
        "id": "QBaSdVUF3gkm"
      },
      "source": [
        "!./darknet detector map data/obj.data cfg/yolov3_training.cfg /mydrive/yolov3/yolov3_training_last.weights"
      ],
      "execution_count": null,
      "outputs": []
    }
  ]
}